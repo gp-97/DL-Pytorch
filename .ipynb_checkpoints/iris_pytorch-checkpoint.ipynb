{
 "cells": [
  {
   "cell_type": "code",
   "execution_count": 1,
   "metadata": {},
   "outputs": [],
   "source": [
    "import numpy as np\n",
    "import matplotlib.pyplot as plt\n",
    "import pandas as pd\n",
    "from tqdm import tqdm\n",
    "import torch\n",
    "import torch.nn as nn\n",
    "import torch.nn.functional as F\n",
    "from torch import optim\n",
    "from sklearn.datasets import load_iris\n",
    "from sklearn.model_selection import train_test_split\n",
    "from sklearn.preprocessing import StandardScaler, OneHotEncoder\n",
    "from sklearn.metrics import confusion_matrix, classification_report"
   ]
  },
  {
   "cell_type": "code",
   "execution_count": 2,
   "metadata": {},
   "outputs": [],
   "source": [
    "dataset = load_iris()"
   ]
  },
  {
   "cell_type": "code",
   "execution_count": 3,
   "metadata": {},
   "outputs": [],
   "source": [
    "device = torch.device('cuda' if torch.cuda.is_available() else 'cpu')"
   ]
  },
  {
   "cell_type": "code",
   "execution_count": 4,
   "metadata": {},
   "outputs": [
    {
     "name": "stdout",
     "output_type": "stream",
     "text": [
      "GeForce 940MX\n",
      "Memory Usage:\n",
      "Allocated: 0.0 GB\n",
      "Cached:    0.0 GB\n"
     ]
    }
   ],
   "source": [
    "if device.type == 'cuda':\n",
    "    print(torch.cuda.get_device_name(0))\n",
    "    print('Memory Usage:')\n",
    "    print('Allocated:', round(torch.cuda.memory_allocated(0)/1024**3,1), 'GB')\n",
    "    print('Cached:   ', round(torch.cuda.memory_cached(0)/1024**3,1), 'GB')"
   ]
  },
  {
   "cell_type": "code",
   "execution_count": 5,
   "metadata": {},
   "outputs": [],
   "source": [
    "X = dataset.data\n",
    "y = dataset.target"
   ]
  },
  {
   "cell_type": "code",
   "execution_count": 6,
   "metadata": {},
   "outputs": [],
   "source": [
    "data = pd.DataFrame(X,columns=dataset.feature_names)"
   ]
  },
  {
   "cell_type": "code",
   "execution_count": 7,
   "metadata": {},
   "outputs": [],
   "source": [
    "data['target'] = y"
   ]
  },
  {
   "cell_type": "code",
   "execution_count": 8,
   "metadata": {},
   "outputs": [],
   "source": [
    "arr = np.asarray(data)"
   ]
  },
  {
   "cell_type": "code",
   "execution_count": 9,
   "metadata": {},
   "outputs": [],
   "source": [
    "np.random.shuffle(arr)"
   ]
  },
  {
   "cell_type": "code",
   "execution_count": 10,
   "metadata": {},
   "outputs": [],
   "source": [
    "sc = StandardScaler()"
   ]
  },
  {
   "cell_type": "code",
   "execution_count": 11,
   "metadata": {},
   "outputs": [],
   "source": [
    "X = arr[:,:-1]\n",
    "y = arr[:,-1]"
   ]
  },
  {
   "cell_type": "code",
   "execution_count": 12,
   "metadata": {},
   "outputs": [],
   "source": [
    "X = sc.fit_transform(X)"
   ]
  },
  {
   "cell_type": "code",
   "execution_count": 13,
   "metadata": {},
   "outputs": [],
   "source": [
    "enc = OneHotEncoder(sparse=False)"
   ]
  },
  {
   "cell_type": "code",
   "execution_count": 14,
   "metadata": {},
   "outputs": [],
   "source": [
    "y = np.reshape(y,(y.shape[0],1))\n",
    "y = enc.fit_transform(y)"
   ]
  },
  {
   "cell_type": "code",
   "execution_count": 15,
   "metadata": {},
   "outputs": [],
   "source": [
    "X_train, X_test, y_train, y_test = train_test_split(X, y, test_size=0.33, random_state=42)\n",
    "X_test, X_val, y_test, y_val = train_test_split(X_test, y_test, test_size=0.33, random_state=42)"
   ]
  },
  {
   "cell_type": "code",
   "execution_count": 16,
   "metadata": {},
   "outputs": [
    {
     "name": "stdout",
     "output_type": "stream",
     "text": [
      "X_train: (100, 4), X_test: (33, 4), X_val: (17, 4)\n",
      "y_train: (100, 3), y_test: (33, 3), y_val: (17, 3)\n"
     ]
    }
   ],
   "source": [
    "print(f\"X_train: {X_train.shape}, X_test: {X_test.shape}, X_val: {X_val.shape}\\ny_train: {y_train.shape}, y_test: {y_test.shape}, y_val: {y_val.shape}\")"
   ]
  },
  {
   "cell_type": "code",
   "execution_count": 17,
   "metadata": {},
   "outputs": [],
   "source": [
    "X_train = torch.tensor(X_train, dtype=torch.float, device=device)\n",
    "X_test = torch.tensor(X_test, dtype=torch.float, device=device)\n",
    "X_val = torch.tensor(X_val, dtype=torch.float, device=device)\n",
    "y_train = torch.tensor(y_train, dtype=torch.float, device=device)\n",
    "y_test = torch.tensor(y_test, dtype=torch.float, device=device)\n",
    "y_val = torch.tensor(y_val, dtype=torch.float, device=device)"
   ]
  },
  {
   "cell_type": "code",
   "execution_count": 18,
   "metadata": {},
   "outputs": [],
   "source": [
    "class Model(nn.Module):\n",
    "    def __init__(self):\n",
    "        super(Model, self).__init__()\n",
    "        self.fc1 = nn.Linear(X_train.shape[1], 5)\n",
    "        self.fc2 = nn.Linear(5,6)\n",
    "        self.fc3 = nn.Linear(6,4)\n",
    "        self.fc4 = nn.Linear(4,y_train.shape[1])\n",
    "    def forward(self, x):\n",
    "        x = F.relu(self.fc1(x))\n",
    "        x = F.relu(self.fc2(x))\n",
    "        x = F.relu(self.fc3(x))\n",
    "        x = torch.sigmoid(self.fc4(x))\n",
    "        return x        "
   ]
  },
  {
   "cell_type": "code",
   "execution_count": 19,
   "metadata": {},
   "outputs": [],
   "source": [
    "net = Model().to(device)"
   ]
  },
  {
   "cell_type": "code",
   "execution_count": 20,
   "metadata": {},
   "outputs": [],
   "source": [
    "criterion = nn.MSELoss().to(device)\n",
    "optimizer = optim.RMSprop(net.parameters(), lr=0.01)"
   ]
  },
  {
   "cell_type": "code",
   "execution_count": 21,
   "metadata": {},
   "outputs": [],
   "source": [
    "def calculate_accuracy(y_pred, y_true):\n",
    "    y_pred = y_pred.cpu().detach().numpy()\n",
    "    y_true = y_true.cpu().detach().numpy()\n",
    "    y_pred = enc.inverse_transform(y_pred)\n",
    "    y_true = enc.inverse_transform(y_true)\n",
    "    return (y_true == y_pred).sum() / len(y_true)"
   ]
  },
  {
   "cell_type": "code",
   "execution_count": 22,
   "metadata": {},
   "outputs": [
    {
     "name": "stderr",
     "output_type": "stream",
     "text": [
      " 40%|████      | 60/150 [00:00<00:00, 271.56it/s]"
     ]
    },
    {
     "name": "stdout",
     "output_type": "stream",
     "text": [
      "Epoch 0:  training_acc: 0.3700, training loss: 0.2626,  validation_acc: 0.2353, validation loss: 0.2614\n",
      "Epoch 1:  training_acc: 0.3700, training loss: 0.2461,  validation_acc: 0.3529, validation loss: 0.2281\n",
      "Epoch 2:  training_acc: 0.5100, training loss: 0.2203,  validation_acc: 0.4706, validation loss: 0.1882\n",
      "Epoch 3:  training_acc: 0.5100, training loss: 0.1905,  validation_acc: 0.4118, validation loss: 0.1577\n",
      "Epoch 4:  training_acc: 0.3800, training loss: 0.1705,  validation_acc: 0.9412, validation loss: 0.1652\n",
      "Epoch 5:  training_acc: 0.9400, training loss: 0.1674,  validation_acc: 0.7647, validation loss: 0.1403\n",
      "Epoch 6:  training_acc: 0.7400, training loss: 0.1578,  validation_acc: 0.8824, validation loss: 0.1362\n",
      "Epoch 7:  training_acc: 0.8400, training loss: 0.1452,  validation_acc: 0.8824, validation loss: 0.1180\n",
      "Epoch 8:  training_acc: 0.7600, training loss: 0.1337,  validation_acc: 0.8824, validation loss: 0.1079\n",
      "Epoch 9:  training_acc: 0.8000, training loss: 0.1227,  validation_acc: 0.8824, validation loss: 0.0933\n",
      "Epoch 10:  training_acc: 0.7700, training loss: 0.1104,  validation_acc: 0.8824, validation loss: 0.0828\n",
      "Epoch 11:  training_acc: 0.8400, training loss: 0.0987,  validation_acc: 0.8824, validation loss: 0.0766\n",
      "Epoch 12:  training_acc: 0.8200, training loss: 0.0902,  validation_acc: 0.8824, validation loss: 0.0742\n",
      "Epoch 13:  training_acc: 0.9200, training loss: 0.0837,  validation_acc: 0.8824, validation loss: 0.0707\n",
      "Epoch 14:  training_acc: 0.9100, training loss: 0.0782,  validation_acc: 0.9412, validation loss: 0.0710\n",
      "Epoch 15:  training_acc: 0.9700, training loss: 0.0734,  validation_acc: 0.8824, validation loss: 0.0666\n",
      "Epoch 16:  training_acc: 0.9000, training loss: 0.0701,  validation_acc: 0.8824, validation loss: 0.0746\n",
      "Epoch 17:  training_acc: 0.9800, training loss: 0.0684,  validation_acc: 0.8235, validation loss: 0.0667\n",
      "Epoch 18:  training_acc: 0.8700, training loss: 0.0694,  validation_acc: 0.9412, validation loss: 0.0737\n",
      "Epoch 19:  training_acc: 0.9500, training loss: 0.0630,  validation_acc: 0.8824, validation loss: 0.0599\n",
      "Epoch 20:  training_acc: 0.9000, training loss: 0.0583,  validation_acc: 0.9412, validation loss: 0.0618\n",
      "Epoch 21:  training_acc: 0.9700, training loss: 0.0518,  validation_acc: 0.9412, validation loss: 0.0533\n",
      "Epoch 22:  training_acc: 0.9700, training loss: 0.0483,  validation_acc: 0.9412, validation loss: 0.0565\n",
      "Epoch 23:  training_acc: 0.9700, training loss: 0.0445,  validation_acc: 0.9412, validation loss: 0.0492\n",
      "Epoch 24:  training_acc: 0.9700, training loss: 0.0417,  validation_acc: 0.9412, validation loss: 0.0533\n",
      "Epoch 25:  training_acc: 0.9700, training loss: 0.0388,  validation_acc: 0.9412, validation loss: 0.0462\n",
      "Epoch 26:  training_acc: 0.9700, training loss: 0.0368,  validation_acc: 0.8824, validation loss: 0.0516\n",
      "Epoch 27:  training_acc: 0.9700, training loss: 0.0345,  validation_acc: 0.9412, validation loss: 0.0438\n",
      "Epoch 28:  training_acc: 0.9700, training loss: 0.0330,  validation_acc: 0.8824, validation loss: 0.0505\n",
      "Epoch 29:  training_acc: 0.9700, training loss: 0.0311,  validation_acc: 0.9412, validation loss: 0.0420\n",
      "Epoch 30:  training_acc: 0.9700, training loss: 0.0301,  validation_acc: 0.9412, validation loss: 0.0494\n",
      "Epoch 31:  training_acc: 0.9700, training loss: 0.0283,  validation_acc: 0.9412, validation loss: 0.0403\n",
      "Epoch 32:  training_acc: 0.9700, training loss: 0.0273,  validation_acc: 0.8824, validation loss: 0.0469\n",
      "Epoch 33:  training_acc: 0.9700, training loss: 0.0253,  validation_acc: 0.9412, validation loss: 0.0385\n",
      "Epoch 34:  training_acc: 0.9700, training loss: 0.0242,  validation_acc: 0.8824, validation loss: 0.0439\n",
      "Epoch 35:  training_acc: 0.9800, training loss: 0.0226,  validation_acc: 0.9412, validation loss: 0.0371\n",
      "Epoch 36:  training_acc: 0.9700, training loss: 0.0214,  validation_acc: 0.9412, validation loss: 0.0413\n",
      "Epoch 37:  training_acc: 0.9800, training loss: 0.0202,  validation_acc: 0.9412, validation loss: 0.0362\n",
      "Epoch 38:  training_acc: 0.9800, training loss: 0.0193,  validation_acc: 0.9412, validation loss: 0.0393\n",
      "Epoch 39:  training_acc: 0.9800, training loss: 0.0184,  validation_acc: 0.9412, validation loss: 0.0356\n",
      "Epoch 40:  training_acc: 0.9700, training loss: 0.0177,  validation_acc: 0.9412, validation loss: 0.0380\n",
      "Epoch 41:  training_acc: 0.9800, training loss: 0.0170,  validation_acc: 0.9412, validation loss: 0.0353\n",
      "Epoch 42:  training_acc: 0.9700, training loss: 0.0164,  validation_acc: 0.9412, validation loss: 0.0370\n",
      "Epoch 43:  training_acc: 0.9800, training loss: 0.0159,  validation_acc: 0.9412, validation loss: 0.0351\n",
      "Epoch 44:  training_acc: 0.9700, training loss: 0.0154,  validation_acc: 0.9412, validation loss: 0.0365\n",
      "Epoch 45:  training_acc: 0.9800, training loss: 0.0147,  validation_acc: 0.9412, validation loss: 0.0349\n",
      "Epoch 46:  training_acc: 0.9700, training loss: 0.0141,  validation_acc: 0.9412, validation loss: 0.0361\n",
      "Epoch 47:  training_acc: 0.9800, training loss: 0.0135,  validation_acc: 0.9412, validation loss: 0.0348\n",
      "Epoch 48:  training_acc: 0.9700, training loss: 0.0129,  validation_acc: 0.9412, validation loss: 0.0357\n",
      "Epoch 49:  training_acc: 0.9800, training loss: 0.0124,  validation_acc: 0.9412, validation loss: 0.0348\n",
      "Epoch 50:  training_acc: 0.9700, training loss: 0.0119,  validation_acc: 0.9412, validation loss: 0.0356\n",
      "Epoch 51:  training_acc: 0.9900, training loss: 0.0114,  validation_acc: 0.9412, validation loss: 0.0348\n",
      "Epoch 52:  training_acc: 0.9800, training loss: 0.0109,  validation_acc: 0.9412, validation loss: 0.0356\n",
      "Epoch 53:  training_acc: 0.9900, training loss: 0.0105,  validation_acc: 0.9412, validation loss: 0.0350\n",
      "Epoch 54:  training_acc: 0.9800, training loss: 0.0102,  validation_acc: 0.9412, validation loss: 0.0358\n",
      "Epoch 55:  training_acc: 0.9900, training loss: 0.0099,  validation_acc: 0.9412, validation loss: 0.0351\n",
      "Epoch 56:  training_acc: 0.9800, training loss: 0.0097,  validation_acc: 0.9412, validation loss: 0.0359\n",
      "Epoch 57:  training_acc: 0.9900, training loss: 0.0094,  validation_acc: 0.9412, validation loss: 0.0354\n",
      "Epoch 58:  training_acc: 0.9800, training loss: 0.0091,  validation_acc: 0.9412, validation loss: 0.0362\n",
      "Epoch 59:  training_acc: 0.9900, training loss: 0.0089,  validation_acc: 0.9412, validation loss: 0.0355\n",
      "Epoch 60:  training_acc: 0.9800, training loss: 0.0088,  validation_acc: 0.9412, validation loss: 0.0366\n",
      "Epoch 61:  training_acc: 0.9900, training loss: 0.0086,  validation_acc: 0.9412, validation loss: 0.0358\n",
      "Epoch 62:  training_acc: 0.9800, training loss: 0.0084,  validation_acc: 0.9412, validation loss: 0.0371\n"
     ]
    },
    {
     "name": "stderr",
     "output_type": "stream",
     "text": [
      " 85%|████████▍ | 127/150 [00:00<00:00, 299.49it/s]"
     ]
    },
    {
     "name": "stdout",
     "output_type": "stream",
     "text": [
      "Epoch 63:  training_acc: 0.9900, training loss: 0.0083,  validation_acc: 0.9412, validation loss: 0.0360\n",
      "Epoch 64:  training_acc: 0.9800, training loss: 0.0081,  validation_acc: 0.9412, validation loss: 0.0376\n",
      "Epoch 65:  training_acc: 0.9900, training loss: 0.0080,  validation_acc: 0.9412, validation loss: 0.0363\n",
      "Epoch 66:  training_acc: 0.9800, training loss: 0.0079,  validation_acc: 0.9412, validation loss: 0.0383\n",
      "Epoch 67:  training_acc: 0.9900, training loss: 0.0077,  validation_acc: 0.9412, validation loss: 0.0366\n",
      "Epoch 68:  training_acc: 0.9900, training loss: 0.0076,  validation_acc: 0.8824, validation loss: 0.0390\n",
      "Epoch 69:  training_acc: 0.9900, training loss: 0.0075,  validation_acc: 0.9412, validation loss: 0.0369\n",
      "Epoch 70:  training_acc: 0.9900, training loss: 0.0075,  validation_acc: 0.8824, validation loss: 0.0398\n",
      "Epoch 71:  training_acc: 0.9900, training loss: 0.0074,  validation_acc: 0.9412, validation loss: 0.0372\n",
      "Epoch 72:  training_acc: 0.9900, training loss: 0.0074,  validation_acc: 0.8824, validation loss: 0.0407\n",
      "Epoch 73:  training_acc: 0.9900, training loss: 0.0073,  validation_acc: 0.9412, validation loss: 0.0375\n",
      "Epoch 74:  training_acc: 0.9900, training loss: 0.0074,  validation_acc: 0.8824, validation loss: 0.0416\n",
      "Epoch 75:  training_acc: 0.9900, training loss: 0.0072,  validation_acc: 0.9412, validation loss: 0.0378\n",
      "Epoch 76:  training_acc: 0.9900, training loss: 0.0073,  validation_acc: 0.8824, validation loss: 0.0423\n",
      "Epoch 77:  training_acc: 0.9900, training loss: 0.0071,  validation_acc: 0.9412, validation loss: 0.0381\n",
      "Epoch 78:  training_acc: 0.9900, training loss: 0.0072,  validation_acc: 0.8824, validation loss: 0.0427\n",
      "Epoch 79:  training_acc: 0.9900, training loss: 0.0069,  validation_acc: 0.9412, validation loss: 0.0384\n",
      "Epoch 80:  training_acc: 0.9900, training loss: 0.0069,  validation_acc: 0.8824, validation loss: 0.0429\n",
      "Epoch 81:  training_acc: 0.9900, training loss: 0.0067,  validation_acc: 0.9412, validation loss: 0.0387\n",
      "Epoch 82:  training_acc: 0.9900, training loss: 0.0066,  validation_acc: 0.8824, validation loss: 0.0431\n",
      "Epoch 83:  training_acc: 0.9900, training loss: 0.0064,  validation_acc: 0.9412, validation loss: 0.0392\n",
      "Epoch 84:  training_acc: 0.9900, training loss: 0.0063,  validation_acc: 0.8824, validation loss: 0.0432\n",
      "Epoch 85:  training_acc: 0.9900, training loss: 0.0061,  validation_acc: 0.9412, validation loss: 0.0397\n",
      "Epoch 86:  training_acc: 0.9900, training loss: 0.0060,  validation_acc: 0.8824, validation loss: 0.0434\n",
      "Epoch 87:  training_acc: 0.9900, training loss: 0.0058,  validation_acc: 0.9412, validation loss: 0.0402\n",
      "Epoch 88:  training_acc: 0.9900, training loss: 0.0057,  validation_acc: 0.8824, validation loss: 0.0436\n",
      "Epoch 89:  training_acc: 0.9900, training loss: 0.0056,  validation_acc: 0.9412, validation loss: 0.0408\n",
      "Epoch 90:  training_acc: 0.9900, training loss: 0.0055,  validation_acc: 0.8824, validation loss: 0.0440\n",
      "Epoch 91:  training_acc: 0.9900, training loss: 0.0053,  validation_acc: 0.9412, validation loss: 0.0414\n",
      "Epoch 92:  training_acc: 1.0000, training loss: 0.0052,  validation_acc: 0.8824, validation loss: 0.0442\n",
      "Epoch 93:  training_acc: 0.9900, training loss: 0.0051,  validation_acc: 0.9412, validation loss: 0.0419\n",
      "Epoch 94:  training_acc: 1.0000, training loss: 0.0051,  validation_acc: 0.8824, validation loss: 0.0445\n",
      "Epoch 95:  training_acc: 0.9900, training loss: 0.0050,  validation_acc: 0.9412, validation loss: 0.0424\n",
      "Epoch 96:  training_acc: 1.0000, training loss: 0.0049,  validation_acc: 0.8824, validation loss: 0.0448\n",
      "Epoch 97:  training_acc: 0.9900, training loss: 0.0048,  validation_acc: 0.9412, validation loss: 0.0430\n",
      "Epoch 98:  training_acc: 1.0000, training loss: 0.0047,  validation_acc: 0.8824, validation loss: 0.0452\n",
      "Epoch 99:  training_acc: 0.9900, training loss: 0.0046,  validation_acc: 0.9412, validation loss: 0.0435\n",
      "Epoch 100:  training_acc: 1.0000, training loss: 0.0046,  validation_acc: 0.8824, validation loss: 0.0457\n",
      "Epoch 101:  training_acc: 0.9900, training loss: 0.0045,  validation_acc: 0.9412, validation loss: 0.0440\n",
      "Epoch 102:  training_acc: 1.0000, training loss: 0.0044,  validation_acc: 0.8824, validation loss: 0.0461\n",
      "Epoch 103:  training_acc: 0.9900, training loss: 0.0043,  validation_acc: 0.9412, validation loss: 0.0445\n",
      "Epoch 104:  training_acc: 1.0000, training loss: 0.0043,  validation_acc: 0.8824, validation loss: 0.0466\n",
      "Epoch 105:  training_acc: 0.9900, training loss: 0.0042,  validation_acc: 0.9412, validation loss: 0.0449\n",
      "Epoch 106:  training_acc: 1.0000, training loss: 0.0041,  validation_acc: 0.8824, validation loss: 0.0471\n",
      "Epoch 107:  training_acc: 0.9900, training loss: 0.0041,  validation_acc: 0.8824, validation loss: 0.0454\n",
      "Epoch 108:  training_acc: 1.0000, training loss: 0.0040,  validation_acc: 0.8824, validation loss: 0.0476\n",
      "Epoch 109:  training_acc: 0.9900, training loss: 0.0040,  validation_acc: 0.8824, validation loss: 0.0458\n",
      "Epoch 110:  training_acc: 1.0000, training loss: 0.0039,  validation_acc: 0.8824, validation loss: 0.0481\n",
      "Epoch 111:  training_acc: 1.0000, training loss: 0.0038,  validation_acc: 0.8824, validation loss: 0.0462\n",
      "Epoch 112:  training_acc: 1.0000, training loss: 0.0038,  validation_acc: 0.8824, validation loss: 0.0487\n",
      "Epoch 113:  training_acc: 1.0000, training loss: 0.0037,  validation_acc: 0.8824, validation loss: 0.0465\n",
      "Epoch 114:  training_acc: 1.0000, training loss: 0.0037,  validation_acc: 0.8824, validation loss: 0.0492\n",
      "Epoch 115:  training_acc: 1.0000, training loss: 0.0036,  validation_acc: 0.8824, validation loss: 0.0468\n",
      "Epoch 116:  training_acc: 1.0000, training loss: 0.0036,  validation_acc: 0.8824, validation loss: 0.0498\n",
      "Epoch 117:  training_acc: 1.0000, training loss: 0.0035,  validation_acc: 0.8824, validation loss: 0.0471\n",
      "Epoch 118:  training_acc: 1.0000, training loss: 0.0035,  validation_acc: 0.8824, validation loss: 0.0505\n",
      "Epoch 119:  training_acc: 1.0000, training loss: 0.0034,  validation_acc: 0.8824, validation loss: 0.0473\n",
      "Epoch 120:  training_acc: 1.0000, training loss: 0.0034,  validation_acc: 0.8824, validation loss: 0.0511\n",
      "Epoch 121:  training_acc: 1.0000, training loss: 0.0033,  validation_acc: 0.8824, validation loss: 0.0474\n",
      "Epoch 122:  training_acc: 1.0000, training loss: 0.0033,  validation_acc: 0.8824, validation loss: 0.0519\n",
      "Epoch 123:  training_acc: 1.0000, training loss: 0.0032,  validation_acc: 0.8824, validation loss: 0.0474\n",
      "Epoch 124:  training_acc: 1.0000, training loss: 0.0032,  validation_acc: 0.8824, validation loss: 0.0526\n",
      "Epoch 125:  training_acc: 1.0000, training loss: 0.0032,  validation_acc: 0.9412, validation loss: 0.0474\n",
      "Epoch 126:  training_acc: 1.0000, training loss: 0.0031,  validation_acc: 0.8824, validation loss: 0.0534\n",
      "Epoch 127:  training_acc: 1.0000, training loss: 0.0031,  validation_acc: 0.9412, validation loss: 0.0473\n",
      "Epoch 128:  training_acc: 1.0000, training loss: 0.0031,  validation_acc: 0.8824, validation loss: 0.0543\n",
      "Epoch 129:  training_acc: 1.0000, training loss: 0.0031,  validation_acc: 0.9412, validation loss: 0.0471\n"
     ]
    },
    {
     "name": "stderr",
     "output_type": "stream",
     "text": [
      "\r",
      "100%|██████████| 150/150 [00:00<00:00, 310.99it/s]"
     ]
    },
    {
     "name": "stdout",
     "output_type": "stream",
     "text": [
      "Epoch 130:  training_acc: 1.0000, training loss: 0.0031,  validation_acc: 0.8824, validation loss: 0.0551\n",
      "Epoch 131:  training_acc: 1.0000, training loss: 0.0030,  validation_acc: 0.9412, validation loss: 0.0470\n",
      "Epoch 132:  training_acc: 1.0000, training loss: 0.0030,  validation_acc: 0.8824, validation loss: 0.0558\n",
      "Epoch 133:  training_acc: 1.0000, training loss: 0.0030,  validation_acc: 0.9412, validation loss: 0.0469\n",
      "Epoch 134:  training_acc: 1.0000, training loss: 0.0030,  validation_acc: 0.8824, validation loss: 0.0563\n",
      "Epoch 135:  training_acc: 1.0000, training loss: 0.0029,  validation_acc: 0.9412, validation loss: 0.0470\n",
      "Epoch 136:  training_acc: 1.0000, training loss: 0.0029,  validation_acc: 0.8824, validation loss: 0.0567\n",
      "Epoch 137:  training_acc: 1.0000, training loss: 0.0028,  validation_acc: 0.9412, validation loss: 0.0473\n",
      "Epoch 138:  training_acc: 1.0000, training loss: 0.0028,  validation_acc: 0.8824, validation loss: 0.0568\n",
      "Epoch 139:  training_acc: 1.0000, training loss: 0.0027,  validation_acc: 0.9412, validation loss: 0.0478\n",
      "Epoch 140:  training_acc: 1.0000, training loss: 0.0027,  validation_acc: 0.8824, validation loss: 0.0568\n",
      "Epoch 141:  training_acc: 1.0000, training loss: 0.0026,  validation_acc: 0.9412, validation loss: 0.0484\n",
      "Epoch 142:  training_acc: 1.0000, training loss: 0.0025,  validation_acc: 0.8824, validation loss: 0.0567\n",
      "Epoch 143:  training_acc: 1.0000, training loss: 0.0024,  validation_acc: 0.8824, validation loss: 0.0491\n",
      "Epoch 144:  training_acc: 1.0000, training loss: 0.0024,  validation_acc: 0.8824, validation loss: 0.0566\n",
      "Epoch 145:  training_acc: 1.0000, training loss: 0.0023,  validation_acc: 0.8824, validation loss: 0.0498\n",
      "Epoch 146:  training_acc: 1.0000, training loss: 0.0023,  validation_acc: 0.8824, validation loss: 0.0564\n",
      "Epoch 147:  training_acc: 1.0000, training loss: 0.0022,  validation_acc: 0.8824, validation loss: 0.0505\n",
      "Epoch 148:  training_acc: 1.0000, training loss: 0.0022,  validation_acc: 0.8824, validation loss: 0.0564\n",
      "Epoch 149:  training_acc: 1.0000, training loss: 0.0021,  validation_acc: 0.8824, validation loss: 0.0511\n"
     ]
    },
    {
     "name": "stderr",
     "output_type": "stream",
     "text": [
      "\n"
     ]
    }
   ],
   "source": [
    "train_loss = []\n",
    "valid_loss = []\n",
    "train_acc = []\n",
    "valid_acc = []\n",
    "epochs = []\n",
    "for i in tqdm(range(150)):\n",
    "    optimizer.zero_grad()\n",
    "    epochs.append(i)\n",
    "    output = net(X_train)\n",
    "    loss = criterion(output, y_train)\n",
    "    loss.backward()\n",
    "    optimizer.step()\n",
    "    y_pred = net(X_val)\n",
    "    loss_val = criterion(y_pred, y_val)\n",
    "\n",
    "#     output = torch.squeeze(output)\n",
    "    op_acc = calculate_accuracy(output, y_train)\n",
    "#     y_pred = torch.squeeze(y_pred)\n",
    "    valAcc = calculate_accuracy(y_pred, y_val)\n",
    "    \n",
    "    train_acc.append(op_acc)\n",
    "    valid_acc.append(valAcc)\n",
    "    valid_loss.append(loss_val.item())\n",
    "    train_loss.append(loss.item())\n",
    "    \n",
    "    print(f\"Epoch {i}:  training_acc: {op_acc:0.4f}, training loss: {loss:0.4f},  validation_acc: {valAcc:0.4f}, validation loss: {loss_val:0.4f}\")\n",
    "    "
   ]
  },
  {
   "cell_type": "code",
   "execution_count": 23,
   "metadata": {},
   "outputs": [
    {
     "data": {
      "image/png": "[encoded data removed]",
      "text/plain": [
       "<Figure size 864x576 with 1 Axes>"
      ]
     },
     "metadata": {
      "needs_background": "light"
     },
     "output_type": "display_data"
    }
   ],
   "source": [
    "plt.figure(figsize=(12,8))\n",
    "plt.plot(epochs, train_acc, label='training accuracy')\n",
    "plt.plot(epochs, valid_acc, label='validation accuracy')\n",
    "plt.xlabel('Epochs')\n",
    "plt.ylabel(\"Accuracy\")\n",
    "plt.title('Accuracy V/s Epochs')\n",
    "plt.legend()\n",
    "plt.show()"
   ]
  },
  {
   "cell_type": "code",
   "execution_count": 24,
   "metadata": {},
   "outputs": [
    {
     "data": {
      "image/png": "[encoded data removed]",
      "text/plain": [
       "<Figure size 864x576 with 1 Axes>"
      ]
     },
     "metadata": {
      "needs_background": "light"
     },
     "output_type": "display_data"
    }
   ],
   "source": [
    "plt.figure(figsize=(12,8))\n",
    "plt.plot(epochs, train_loss, label='training loss')\n",
    "plt.plot(epochs, valid_loss, label='validation loss')\n",
    "plt.xlabel('Epochs')\n",
    "plt.ylabel(\"Loss\")\n",
    "plt.title('Loss V/s Epochs')\n",
    "plt.legend()\n",
    "plt.show()"
   ]
  },
  {
   "cell_type": "code",
   "execution_count": 25,
   "metadata": {},
   "outputs": [],
   "source": [
    "y_pred = net(X_test)"
   ]
  },
  {
   "cell_type": "code",
   "execution_count": 26,
   "metadata": {},
   "outputs": [],
   "source": [
    "y_pred = y_pred.cpu()\n",
    "y_test = y_test.cpu()"
   ]
  },
  {
   "cell_type": "code",
   "execution_count": 27,
   "metadata": {},
   "outputs": [],
   "source": [
    "y_pred = y_pred.detach().numpy()\n",
    "y_pred = np.round(y_pred)"
   ]
  },
  {
   "cell_type": "code",
   "execution_count": 28,
   "metadata": {},
   "outputs": [],
   "source": [
    "y_pred = enc.inverse_transform(y_pred)\n",
    "y_test = enc.inverse_transform(y_test)"
   ]
  },
  {
   "cell_type": "code",
   "execution_count": 29,
   "metadata": {},
   "outputs": [
    {
     "name": "stdout",
     "output_type": "stream",
     "text": [
      "[[10  0  0]\n",
      " [ 0  9  0]\n",
      " [ 0  0 14]]\n"
     ]
    }
   ],
   "source": [
    "print(confusion_matrix(y_test, y_pred))"
   ]
  },
  {
   "cell_type": "code",
   "execution_count": 30,
   "metadata": {},
   "outputs": [
    {
     "name": "stdout",
     "output_type": "stream",
     "text": [
      "              precision    recall  f1-score   support\n",
      "\n",
      "         0.0       1.00      1.00      1.00        10\n",
      "         1.0       1.00      1.00      1.00         9\n",
      "         2.0       1.00      1.00      1.00        14\n",
      "\n",
      "    accuracy                           1.00        33\n",
      "   macro avg       1.00      1.00      1.00        33\n",
      "weighted avg       1.00      1.00      1.00        33\n",
      "\n"
     ]
    }
   ],
   "source": [
    "print(classification_report(y_test, y_pred))"
   ]
  },
  {
   "cell_type": "code",
   "execution_count": 31,
   "metadata": {},
   "outputs": [
    {
     "data": {
      "text/plain": [
       "33"
      ]
     },
     "execution_count": 31,
     "metadata": {},
     "output_type": "execute_result"
    }
   ],
   "source": [
    "(y_test==y_pred).sum()"
   ]
  }
 ],
 "metadata": {
  "kernelspec": {
   "display_name": "Python 3",
   "language": "python",
   "name": "python3"
  },
  "language_info": {
   "codemirror_mode": {
    "name": "ipython",
    "version": 3
   },
   "file_extension": ".py",
   "mimetype": "text/x-python",
   "name": "python",
   "nbconvert_exporter": "python",
   "pygments_lexer": "ipython3",
   "version": "3.6.9"
  },
  "varInspector": {
   "cols": {
    "lenName": 16,
    "lenType": 16,
    "lenVar": 40
   },
   "kernels_config": {
    "python": {
     "delete_cmd_postfix": "",
     "delete_cmd_prefix": "del ",
     "library": "var_list.py",
     "varRefreshCmd": "print(var_dic_list())"
    },
    "r": {
     "delete_cmd_postfix": ") ",
     "delete_cmd_prefix": "rm(",
     "library": "var_list.r",
     "varRefreshCmd": "cat(var_dic_list()) "
    }
   },
   "oldHeight": 344.85,
   "position": {
    "height": "366.85px",
    "left": "577px",
    "right": "20px",
    "top": "6px",
    "width": "773px"
   },
   "types_to_exclude": [
    "module",
    "function",
    "builtin_function_or_method",
    "instance",
    "_Feature"
   ],
   "varInspector_section_display": "block",
   "window_display": false
  }
 },
 "nbformat": 4,
 "nbformat_minor": 4
}
